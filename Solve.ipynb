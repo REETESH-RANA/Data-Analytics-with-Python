{
 "cells": [
  {
   "cell_type": "markdown",
   "id": "b49d7867",
   "metadata": {},
   "source": [
    "importig libraries as per needed"
   ]
  },
  {
   "cell_type": "code",
   "execution_count": null,
   "id": "b557098e-da84-451e-8cba-80e7b34dd98e",
   "metadata": {},
   "outputs": [],
   "source": [
    "import numpy as np\n",
    "import pandas as pd\n",
    "import matplotlib.pyplot as plt\n",
    "import math"
   ]
  },
  {
   "cell_type": "markdown",
   "id": "caa01e7a-d859-44b3-a030-726092833a15",
   "metadata": {},
   "source": [
    "reading csv files Customer,product hierarchy and Transactions"
   ]
  },
  {
   "cell_type": "code",
   "execution_count": null,
   "id": "d1908020-f429-454c-bc70-dd4eec7cd5b6",
   "metadata": {},
   "outputs": [],
   "source": [
    "Customer = pd.read_csv(\"Customer.csv\")\n",
    "# Customer\n",
    "Product_hierarchy = pd.read_csv(\"prod_cat_info.csv\")\n",
    "# Hierarchy \n",
    "Transaction = pd.read_csv(\"Transactions.csv\")\n",
    "# Transactions"
   ]
  },
  {
   "cell_type": "code",
   "execution_count": null,
   "id": "32434b3d-8e1c-484b-a4d2-eee5ad937a42",
   "metadata": {},
   "outputs": [],
   "source": [
    "# merging\n",
    "Customer_Trans = pd.merge(left = Customer,\n",
    "                          right = Transaction,\n",
    "                          left_on = 'customer_Id',\n",
    "                          right_on = 'cust_id',\n",
    "                          how = 'inner',\n",
    "                          indicator = True)\n",
    "Customer_Trans"
   ]
  },
  {
   "cell_type": "code",
   "execution_count": null,
   "id": "353433f3",
   "metadata": {},
   "outputs": [],
   "source": [
    "Customer_Final = pd.merge(left = Customer_Trans,\n",
    "                          right = Product_hierarchy,\n",
    "                          left_on = 'prod_cat_code',\n",
    "                          right_on = 'prod_cat_code',\n",
    "                          how = 'inner')\n",
    "Customer_Final\n"
   ]
  },
  {
   "cell_type": "markdown",
   "id": "78340bc1",
   "metadata": {},
   "source": [
    "Q2. Summary Report"
   ]
  },
  {
   "cell_type": "markdown",
   "id": "63d7823c",
   "metadata": {},
   "source": [
    "a. column names with their data types"
   ]
  },
  {
   "cell_type": "code",
   "execution_count": null,
   "id": "a69aa976",
   "metadata": {},
   "outputs": [],
   "source": [
    "Customer_Final.dtypes"
   ]
  },
  {
   "cell_type": "markdown",
   "id": "e66ef484",
   "metadata": {},
   "source": [
    "b. Top 10 observations"
   ]
  },
  {
   "cell_type": "code",
   "execution_count": null,
   "id": "31b88ead",
   "metadata": {},
   "outputs": [],
   "source": [
    "Customer_Final.head(10)"
   ]
  },
  {
   "cell_type": "markdown",
   "id": "b8635941",
   "metadata": {},
   "source": [
    " 10 bottom observations"
   ]
  },
  {
   "cell_type": "code",
   "execution_count": null,
   "id": "39c271c7",
   "metadata": {},
   "outputs": [],
   "source": [
    "Customer_Final.tail(10)"
   ]
  },
  {
   "cell_type": "markdown",
   "id": "14db6c4f",
   "metadata": {},
   "source": [
    "c. \"Five-number summary” for continuous variables (min, Q1, median, Q3 and max)  "
   ]
  },
  {
   "cell_type": "code",
   "execution_count": null,
   "id": "0fdd5462",
   "metadata": {},
   "outputs": [],
   "source": [
    "Data_min = Customer_Final['total_amt'].min()\n",
    "print('Min = ',Data_min)\n",
    "Data_max = Customer_Final['total_amt'].max()\n",
    "print('max = ',Data_max)\n",
    "Q1 = np.percentile(Customer_Final['total_amt'],25)\n",
    "print(\"Q1 = \",Q1)\n",
    "Median = np.percentile(Customer_Final['total_amt'],50)\n",
    "print(\"Median = \",Median)\n",
    "Q3 = np.percentile(Customer_Final['total_amt'],75)\n",
    "print(\"Q3 = \",Q3)\n",
    " "
   ]
  },
  {
   "cell_type": "markdown",
   "id": "75496eb2",
   "metadata": {},
   "source": [
    "d. Frequency tables for all the categorical variables "
   ]
  },
  {
   "cell_type": "markdown",
   "id": "9d1b9451",
   "metadata": {},
   "source": [
    "Store type"
   ]
  },
  {
   "cell_type": "code",
   "execution_count": null,
   "id": "e991ed66",
   "metadata": {},
   "outputs": [],
   "source": [
    "Freq_table = pd.crosstab(index=Customer_Final['Gender'],\n",
    "                columns=Customer_Final['Store_type'])\n",
    "Freq_table.columns = ['TeleShop','MBR','e-shop','Flagshipstore']\n",
    "Freq_table.index = ['Male','Female']\n",
    "print(Freq_table)"
   ]
  },
  {
   "cell_type": "markdown",
   "id": "1ad8d392",
   "metadata": {},
   "source": [
    "Prod_category"
   ]
  },
  {
   "cell_type": "code",
   "execution_count": null,
   "id": "6ead27d2",
   "metadata": {},
   "outputs": [],
   "source": [
    "freq_table = pd.crosstab(index = Customer_Final['Gender'],\n",
    "                         columns = Customer_Final['prod_cat'])\n",
    "freq_table.columns = ['Books','Bags','Clothing','Footwear','Electronics','Home and kitchen']\n",
    "freq_table.index = ['Male','Female']\n",
    "freq_table"
   ]
  },
  {
   "cell_type": "markdown",
   "id": "b3774a4a",
   "metadata": {},
   "source": [
    "Product_subcategory"
   ]
  },
  {
   "cell_type": "code",
   "execution_count": null,
   "id": "ca1e0436",
   "metadata": {},
   "outputs": [],
   "source": [
    "Freq_table = pd.crosstab(index= Customer_Final['Gender'],\n",
    "                         columns= Customer_Final['prod_subcat'])\n",
    "Freq_table.columns = ['Men','Women','Kid','Mobile','Computer','Personal appliances','Cameras','Audio and Video',\n",
    "                      'Fiction','Academics','Non-Fiction','Children','Comics','Diy','furnish','Kitchen','Bath','Tools']\n",
    "Freq_table.index = ['Male','Female']\n",
    "print(Freq_table)"
   ]
  },
  {
   "cell_type": "markdown",
   "id": "479a221e",
   "metadata": {},
   "source": [
    "Q3. Histograms for all continuous variables and frequency bars for the categorical data"
   ]
  },
  {
   "cell_type": "markdown",
   "id": "d4a1d80e",
   "metadata": {},
   "source": [
    "Histograms for continous variables -:"
   ]
  },
  {
   "cell_type": "markdown",
   "id": "a79b1b37",
   "metadata": {},
   "source": [
    "\n",
    "1.Tax"
   ]
  },
  {
   "cell_type": "code",
   "execution_count": null,
   "id": "6ae018b2",
   "metadata": {},
   "outputs": [],
   "source": [
    "Tax = Customer_Final['Tax']\n",
    "plt.hist(Tax,color =['yellow'])\n",
    "plt.xlabel ('tax')\n",
    "plt.ylabel('frequency')\n",
    "plt.show()"
   ]
  },
  {
   "cell_type": "markdown",
   "id": "15b7c226",
   "metadata": {},
   "source": [
    "2.Total Amount"
   ]
  },
  {
   "cell_type": "code",
   "execution_count": null,
   "id": "445a15e1",
   "metadata": {},
   "outputs": [],
   "source": [
    "Total_Amt = Customer_Final['total_amt']\n",
    "plt.hist(Total_Amt,color='Blue')\n",
    "plt.xlabel('Total amount')\n",
    "plt.ylabel('Frequency')\n",
    "plt.show()"
   ]
  },
  {
   "cell_type": "markdown",
   "id": "ed94c31a",
   "metadata": {},
   "source": [
    "Frequency Bar for Categorical variables"
   ]
  },
  {
   "cell_type": "markdown",
   "id": "3c490965",
   "metadata": {},
   "source": [
    "2 .Store type"
   ]
  },
  {
   "cell_type": "code",
   "execution_count": null,
   "id": "62a16760",
   "metadata": {},
   "outputs": [],
   "source": [
    "Customer_Final['Gender'].value_counts().plot(kind= 'bar')"
   ]
  },
  {
   "cell_type": "markdown",
   "id": "7e9f9d6f",
   "metadata": {},
   "source": [
    "3.Product category"
   ]
  },
  {
   "cell_type": "code",
   "execution_count": null,
   "id": "db995d3f",
   "metadata": {},
   "outputs": [],
   "source": [
    "Customer_Final['prod_cat'].value_counts().plot(kind='bar')"
   ]
  },
  {
   "cell_type": "markdown",
   "id": "b1c7b435",
   "metadata": {},
   "source": [
    "4.Product Sub Category"
   ]
  },
  {
   "cell_type": "code",
   "execution_count": null,
   "id": "152cecb2",
   "metadata": {},
   "outputs": [],
   "source": [
    "Customer_Final['prod_subcat'].value_counts().plot(kind='bar')"
   ]
  },
  {
   "cell_type": "markdown",
   "id": "1d1529fe",
   "metadata": {},
   "source": [
    "Q4."
   ]
  },
  {
   "cell_type": "markdown",
   "id": "c09c6d4e",
   "metadata": {},
   "source": [
    " Count of transactions where the total amount of transaction was negative"
   ]
  },
  {
   "cell_type": "code",
   "execution_count": null,
   "id": "0caaebd3",
   "metadata": {},
   "outputs": [],
   "source": [
    "df=Customer_Final['total_amt']\n",
    "count1=Customer_Final.loc[(df<0),['total_amt']].count()\n",
    "print(count1) "
   ]
  },
  {
   "cell_type": "markdown",
   "id": "a07fa812",
   "metadata": {},
   "source": [
    "5 which product category more poopulr among male and females"
   ]
  },
  {
   "cell_type": "code",
   "execution_count": null,
   "id": "8046f393",
   "metadata": {},
   "outputs": [],
   "source": [
    "# popular among males\n",
    "m = Customer_Final.loc[Customer_Final['Gender'] == 'M']\n",
    "group_prod = m.groupby(['prod_cat'])['total_amt'].count()\n",
    "print(group_prod.nlargest(1))"
   ]
  },
  {
   "cell_type": "code",
   "execution_count": null,
   "id": "71a7b8fe",
   "metadata": {},
   "outputs": [],
   "source": [
    "#  popular among females\n",
    "f=Customer_Final.loc[Customer_Final['Gender']=='F']\n",
    "group_prodd=f.groupby(['prod_cat'])['total_amt'].count()\n",
    "print(group_prodd.nlargest(1))"
   ]
  },
  {
   "cell_type": "markdown",
   "id": "adb31402",
   "metadata": {},
   "source": [
    "6.which city code has the maximum customers and what was the percentage of customers from that city"
   ]
  },
  {
   "cell_type": "code",
   "execution_count": null,
   "id": "f27c922b",
   "metadata": {},
   "outputs": [],
   "source": [
    "maxcust = Customer_Final['city_code'].value_counts()\n",
    "t=(maxcust.nlargest(1))\n",
    "# t=maxcust.idxmax()\n",
    "print(\"city code which has maximum customers : \",t)\n",
    "\n",
    "top_count = maxcust.max() \n",
    "total_customers = maxcust.sum()\n",
    "percentage = (top_count / total_customers) *100\n",
    "print(f\"percentage = {percentage:.2f}%\")"
   ]
  },
  {
   "cell_type": "markdown",
   "id": "8d6becbc",
   "metadata": {},
   "source": [
    "7.Which store type sells the maximum products by value and by quantity"
   ]
  },
  {
   "cell_type": "code",
   "execution_count": null,
   "id": "77c05e41",
   "metadata": {},
   "outputs": [],
   "source": [
    "sort_list=Customer_Final.sort_values(['total_amt','Qty'],ascending=True)\n",
    "# print(sort_list)\n",
    "print(sort_list.tail(1)['Store_type'])\n"
   ]
  },
  {
   "cell_type": "markdown",
   "id": "fde5670c",
   "metadata": {},
   "source": [
    "8.What was the total amount earned from the \"Electronics\" and \"Clothing\" categories from Flagship Stores"
   ]
  },
  {
   "cell_type": "code",
   "execution_count": null,
   "id": "d840fca3",
   "metadata": {},
   "outputs": [],
   "source": [
    "pc = Customer_Final[Customer_Final.prod_cat.isin(['Electronics','Clothing']) & (Customer_Final.Store_type == 'Flagship store')]\n",
    "s = pc.total_amt.sum()\n",
    "print(\"amount earned = \",s)"
   ]
  },
  {
   "cell_type": "markdown",
   "id": "d4920bc0",
   "metadata": {},
   "source": [
    "9.what was total amount earned from male customers under electronics category"
   ]
  },
  {
   "cell_type": "code",
   "execution_count": null,
   "id": "fdbe8d45",
   "metadata": {},
   "outputs": [],
   "source": [
    "tot_male=Customer_Final[(Customer_Final.Gender == 'M') & (Customer_Final.prod_cat == 'Electronics')]\n",
    "earn_male=tot_male.total_amt.sum()\n",
    "print(\"total amount earned from male customers under electronics:\",earn_male)"
   ]
  },
  {
   "cell_type": "markdown",
   "id": "c254cb8b",
   "metadata": {},
   "source": [
    "10.How many customers have more than 10 unique transactions, after removing all transactions \n",
    "which have any negative amounts?"
   ]
  },
  {
   "cell_type": "code",
   "execution_count": null,
   "id": "4a257f23",
   "metadata": {},
   "outputs": [],
   "source": [
    "t = Customer_Final[(Customer_Final.total_amt > 0)]\n",
    "# print(t)\n",
    "customer_t = t.groupby('customer_Id')['transaction_id'].nunique()\n",
    "customer_t_with_10_unique = customer_t[customer_t > 10].count()\n",
    "print(\"total customers having more than 10 unique = \",customer_t_with_10_unique)"
   ]
  },
  {
   "cell_type": "markdown",
   "id": "774e8806",
   "metadata": {},
   "source": [
    "11. What was the total amount spent for “Electronics” and “Books” product categories?"
   ]
  },
  {
   "cell_type": "code",
   "execution_count": null,
   "id": "bbbeb890",
   "metadata": {},
   "outputs": [],
   "source": [
    "t = Customer_Final[Customer_Final.prod_cat.isin( ['Electronics','Books'])]\n",
    "ta = t.total_amt.sum()\n",
    "print(\"total amount spent on electronics and books:\",ta)\n"
   ]
  }
 ],
 "metadata": {
  "kernelspec": {
   "display_name": "Python 3",
   "language": "python",
   "name": "python3"
  },
  "language_info": {
   "codemirror_mode": {
    "name": "ipython",
    "version": 3
   },
   "file_extension": ".py",
   "mimetype": "text/x-python",
   "name": "python",
   "nbconvert_exporter": "python",
   "pygments_lexer": "ipython3",
   "version": "3.9.7"
  }
 },
 "nbformat": 4,
 "nbformat_minor": 5
}
